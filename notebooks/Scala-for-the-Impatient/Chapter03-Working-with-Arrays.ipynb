{
 "cells": [
  {
   "cell_type": "markdown",
   "metadata": {},
   "source": [
    "# Chapter 3 Working with Arrays"
   ]
  },
  {
   "cell_type": "markdown",
   "metadata": {},
   "source": [
    "## 3.2 Variable-Length Arrays: Array Buffers"
   ]
  },
  {
   "cell_type": "code",
   "execution_count": 1,
   "metadata": {},
   "outputs": [
    {
     "data": {
      "text/plain": [
       "\u001b[32mimport \u001b[39m\u001b[36mscala.collection.mutable.ArrayBuffer\u001b[39m"
      ]
     },
     "execution_count": 1,
     "metadata": {},
     "output_type": "execute_result"
    }
   ],
   "source": [
    "import scala.collection.mutable.ArrayBuffer"
   ]
  },
  {
   "cell_type": "code",
   "execution_count": 2,
   "metadata": {},
   "outputs": [
    {
     "name": "stdout",
     "output_type": "stream",
     "text": [
      "ArrayBuffer(1)\n",
      "ArrayBuffer(1, 1, 2, 3, 5)\n"
     ]
    },
    {
     "data": {
      "text/plain": [
       "\u001b[36mb\u001b[39m: \u001b[32mArrayBuffer\u001b[39m[\u001b[32mInt\u001b[39m] = \u001b[33mArrayBuffer\u001b[39m(\u001b[32m1\u001b[39m, \u001b[32m1\u001b[39m, \u001b[32m2\u001b[39m, \u001b[32m3\u001b[39m, \u001b[32m5\u001b[39m, \u001b[32m8\u001b[39m, \u001b[32m13\u001b[39m, \u001b[32m21\u001b[39m)\n",
       "\u001b[36mres1_1\u001b[39m: \u001b[32mArrayBuffer\u001b[39m[\u001b[32mInt\u001b[39m] = \u001b[33mArrayBuffer\u001b[39m(\u001b[32m1\u001b[39m, \u001b[32m1\u001b[39m, \u001b[32m2\u001b[39m, \u001b[32m3\u001b[39m, \u001b[32m5\u001b[39m, \u001b[32m8\u001b[39m, \u001b[32m13\u001b[39m, \u001b[32m21\u001b[39m)\n",
       "\u001b[36mres1_3\u001b[39m: \u001b[32mArrayBuffer\u001b[39m[\u001b[32mInt\u001b[39m] = \u001b[33mArrayBuffer\u001b[39m(\u001b[32m1\u001b[39m, \u001b[32m1\u001b[39m, \u001b[32m2\u001b[39m, \u001b[32m3\u001b[39m, \u001b[32m5\u001b[39m, \u001b[32m8\u001b[39m, \u001b[32m13\u001b[39m, \u001b[32m21\u001b[39m)\n",
       "\u001b[36mres1_5\u001b[39m: \u001b[32mArrayBuffer\u001b[39m[\u001b[32mInt\u001b[39m] = \u001b[33mArrayBuffer\u001b[39m(\u001b[32m1\u001b[39m, \u001b[32m1\u001b[39m, \u001b[32m2\u001b[39m, \u001b[32m3\u001b[39m, \u001b[32m5\u001b[39m, \u001b[32m8\u001b[39m, \u001b[32m13\u001b[39m, \u001b[32m21\u001b[39m)"
      ]
     },
     "execution_count": 2,
     "metadata": {},
     "output_type": "execute_result"
    }
   ],
   "source": [
    "val b = ArrayBuffer[Int]()\n",
    "b += 1\n",
    "println(b)\n",
    "b += (1, 2, 3, 5)\n",
    "println(b)\n",
    "b ++= Array(8, 13, 21)"
   ]
  },
  {
   "cell_type": "markdown",
   "metadata": {},
   "source": [
    "## 3.4 Transforming Arrays"
   ]
  },
  {
   "cell_type": "code",
   "execution_count": 3,
   "metadata": {},
   "outputs": [
    {
     "data": {
      "text/html": [
       "<div class=\"jp-RenderedText\">\n",
       "<pre><code><span style=\"color: rgb(0, 187, 187)\"><span class=\"ansi-cyan-fg\">a</span></span>: <span style=\"color: rgb(0, 187, 0)\"><span class=\"ansi-green-fg\">ArrayBuffer</span></span>[<span style=\"color: rgb(0, 187, 0)\"><span class=\"ansi-green-fg\">Int</span></span>] = <span style=\"color: yellow\"><span class=\"ansi-yellow-fg\">ArrayBuffer</span></span>(<span style=\"color: rgb(0, 187, 0)\"><span class=\"ansi-green-fg\">1</span></span>, <span style=\"color: rgb(0, 187, 0)\"><span class=\"ansi-green-fg\">4</span></span>, <span style=\"color: rgb(0, 187, 0)\"><span class=\"ansi-green-fg\">-2</span></span>, <span style=\"color: rgb(0, 187, 0)\"><span class=\"ansi-green-fg\">6</span></span>, <span style=\"color: rgb(0, 187, 0)\"><span class=\"ansi-green-fg\">8</span></span>, <span style=\"color: rgb(0, 187, 0)\"><span class=\"ansi-green-fg\">0</span></span>, <span style=\"color: rgb(0, 187, 0)\"><span class=\"ansi-green-fg\">5</span></span>, <span style=\"color: rgb(0, 187, 0)\"><span class=\"ansi-green-fg\">8</span></span>)\n",
       "<span style=\"color: rgb(0, 187, 187)\"><span class=\"ansi-cyan-fg\">first</span></span>: <span style=\"color: rgb(0, 187, 0)\"><span class=\"ansi-green-fg\">Boolean</span></span> = false\n",
       "<span style=\"color: rgb(0, 187, 187)\"><span class=\"ansi-cyan-fg\">indexes</span></span>: <span style=\"color: rgb(0, 187, 0)\"><span class=\"ansi-green-fg\">collection</span></span>.<span style=\"color: rgb(0, 187, 0)\"><span class=\"ansi-green-fg\">immutable</span></span>.<span style=\"color: rgb(0, 187, 0)\"><span class=\"ansi-green-fg\">IndexedSeq</span></span>[<span style=\"color: rgb(0, 187, 0)\"><span class=\"ansi-green-fg\">Int</span></span>] = <span style=\"color: yellow\"><span class=\"ansi-yellow-fg\">Vector</span></span>(<span style=\"color: rgb(0, 187, 0)\"><span class=\"ansi-green-fg\">0</span></span>, <span style=\"color: rgb(0, 187, 0)\"><span class=\"ansi-green-fg\">1</span></span>, <span style=\"color: rgb(0, 187, 0)\"><span class=\"ansi-green-fg\">2</span></span>, <span style=\"color: rgb(0, 187, 0)\"><span class=\"ansi-green-fg\">3</span></span>, <span style=\"color: rgb(0, 187, 0)\"><span class=\"ansi-green-fg\">4</span></span>, <span style=\"color: rgb(0, 187, 0)\"><span class=\"ansi-green-fg\">5</span></span>, <span style=\"color: rgb(0, 187, 0)\"><span class=\"ansi-green-fg\">7</span></span>, <span style=\"color: rgb(0, 187, 0)\"><span class=\"ansi-green-fg\">10</span></span>)\n",
       "<span style=\"color: rgb(0, 187, 187)\"><span class=\"ansi-cyan-fg\">res2_5</span></span>: <span style=\"color: rgb(0, 187, 0)\"><span class=\"ansi-green-fg\">ArrayBuffer</span></span>[<span style=\"color: rgb(0, 187, 0)\"><span class=\"ansi-green-fg\">Int</span></span>] = <span style=\"color: yellow\"><span class=\"ansi-yellow-fg\">ArrayBuffer</span></span>(<span style=\"color: rgb(0, 187, 0)\"><span class=\"ansi-green-fg\">1</span></span>, <span style=\"color: rgb(0, 187, 0)\"><span class=\"ansi-green-fg\">4</span></span>, <span style=\"color: rgb(0, 187, 0)\"><span class=\"ansi-green-fg\">-2</span></span>, <span style=\"color: rgb(0, 187, 0)\"><span class=\"ansi-green-fg\">6</span></span>, <span style=\"color: rgb(0, 187, 0)\"><span class=\"ansi-green-fg\">8</span></span>, <span style=\"color: rgb(0, 187, 0)\"><span class=\"ansi-green-fg\">0</span></span>, <span style=\"color: rgb(0, 187, 0)\"><span class=\"ansi-green-fg\">5</span></span>, <span style=\"color: rgb(0, 187, 0)\"><span class=\"ansi-green-fg\">8</span></span>)</code></pre>\n",
       "</div>"
      ],
      "text/plain": [
       "\u001b[36ma\u001b[39m: \u001b[32mArrayBuffer\u001b[39m[\u001b[32mInt\u001b[39m] = \u001b[33mArrayBuffer\u001b[39m(\u001b[32m1\u001b[39m, \u001b[32m4\u001b[39m, \u001b[32m-2\u001b[39m, \u001b[32m6\u001b[39m, \u001b[32m8\u001b[39m, \u001b[32m0\u001b[39m, \u001b[32m5\u001b[39m, \u001b[32m8\u001b[39m)\n",
       "\u001b[36mfirst\u001b[39m: \u001b[32mBoolean\u001b[39m = false\n",
       "\u001b[36mindexes\u001b[39m: \u001b[32mcollection\u001b[39m.\u001b[32mimmutable\u001b[39m.\u001b[32mIndexedSeq\u001b[39m[\u001b[32mInt\u001b[39m] = \u001b[33mVector\u001b[39m(\u001b[32m0\u001b[39m, \u001b[32m1\u001b[39m, \u001b[32m2\u001b[39m, \u001b[32m3\u001b[39m, \u001b[32m4\u001b[39m, \u001b[32m5\u001b[39m, \u001b[32m7\u001b[39m, \u001b[32m10\u001b[39m)\n",
       "\u001b[36mres2_5\u001b[39m: \u001b[32mArrayBuffer\u001b[39m[\u001b[32mInt\u001b[39m] = \u001b[33mArrayBuffer\u001b[39m(\u001b[32m1\u001b[39m, \u001b[32m4\u001b[39m, \u001b[32m-2\u001b[39m, \u001b[32m6\u001b[39m, \u001b[32m8\u001b[39m, \u001b[32m0\u001b[39m, \u001b[32m5\u001b[39m, \u001b[32m8\u001b[39m)"
      ]
     },
     "metadata": {},
     "output_type": "display_data"
    }
   ],
   "source": [
    "val a = ArrayBuffer(1, 4, -2, 6, 8, 0, -3, 5, -1, -5, 8)\n",
    "var first = true\n",
    "val indexes = for (i <- 0 until a.length if first || a(i) >= 0) yield {\n",
    "    if (a(i) < 0) first = false; i\n",
    "}\n",
    "for (j <- 0 until indexes.length) a(j) = a(indexes(j))\n",
    "a.trimEnd(a.length - indexes.length)\n",
    "a"
   ]
  },
  {
   "cell_type": "markdown",
   "metadata": {},
   "source": [
    "## Exercises"
   ]
  },
  {
   "cell_type": "markdown",
   "metadata": {},
   "source": [
    "### 1 Random integers"
   ]
  },
  {
   "cell_type": "code",
   "execution_count": 4,
   "metadata": {},
   "outputs": [
    {
     "data": {
      "text/plain": [
       "defined \u001b[32mfunction\u001b[39m \u001b[36mrandomIntegers\u001b[39m\n",
       "\u001b[36mres3_1\u001b[39m: \u001b[32mcollection\u001b[39m.\u001b[32mimmutable\u001b[39m.\u001b[32mIndexedSeq\u001b[39m[\u001b[32mInt\u001b[39m] = \u001b[33mVector\u001b[39m(\n",
       "  \u001b[32m5\u001b[39m,\n",
       "  \u001b[32m4\u001b[39m,\n",
       "  \u001b[32m7\u001b[39m,\n",
       "  \u001b[32m8\u001b[39m,\n",
       "  \u001b[32m1\u001b[39m,\n",
       "  \u001b[32m0\u001b[39m,\n",
       "  \u001b[32m8\u001b[39m,\n",
       "  \u001b[32m9\u001b[39m,\n",
       "  \u001b[32m6\u001b[39m,\n",
       "  \u001b[32m5\u001b[39m\n",
       ")"
      ]
     },
     "execution_count": 4,
     "metadata": {},
     "output_type": "execute_result"
    }
   ],
   "source": [
    "def randomIntegers(n: Int) = for(i <- 0 until n) yield scala.util.Random.nextInt(n)\n",
    "\n",
    "randomIntegers(10)"
   ]
  },
  {
   "cell_type": "markdown",
   "metadata": {},
   "source": [
    "### 2 Swap"
   ]
  },
  {
   "cell_type": "code",
   "execution_count": 5,
   "metadata": {},
   "outputs": [
    {
     "data": {
      "text/plain": [
       "defined \u001b[32mfunction\u001b[39m \u001b[36mswap\u001b[39m\n",
       "\u001b[36ma\u001b[39m: \u001b[32mArray\u001b[39m[\u001b[32mInt\u001b[39m] = \u001b[33mArray\u001b[39m(\u001b[32m2\u001b[39m, \u001b[32m1\u001b[39m, \u001b[32m4\u001b[39m, \u001b[32m3\u001b[39m, \u001b[32m5\u001b[39m)\n",
       "\u001b[36mres4_3\u001b[39m: \u001b[32mArray\u001b[39m[\u001b[32mInt\u001b[39m] = \u001b[33mArray\u001b[39m(\u001b[32m2\u001b[39m, \u001b[32m1\u001b[39m, \u001b[32m4\u001b[39m, \u001b[32m3\u001b[39m, \u001b[32m5\u001b[39m)"
      ]
     },
     "execution_count": 5,
     "metadata": {},
     "output_type": "execute_result"
    }
   ],
   "source": [
    "def swap(a: Array[Int]) {\n",
    "    var s: Int = 0;\n",
    "    for (i <- 1 until a.length by 2) {\n",
    "        s = a(i)\n",
    "        a(i) = a(i-1)\n",
    "        a(i-1) = s\n",
    "    }\n",
    "}\n",
    "\n",
    "val a = Array(1, 2, 3, 4, 5)\n",
    "swap(a)\n",
    "a"
   ]
  },
  {
   "cell_type": "markdown",
   "metadata": {},
   "source": [
    "### 3 Swap with for/yield"
   ]
  },
  {
   "cell_type": "code",
   "execution_count": 6,
   "metadata": {},
   "outputs": [
    {
     "data": {
      "text/plain": [
       "defined \u001b[32mfunction\u001b[39m \u001b[36mswapped\u001b[39m\n",
       "\u001b[36ma\u001b[39m: \u001b[32mArray\u001b[39m[\u001b[32mInt\u001b[39m] = \u001b[33mArray\u001b[39m(\u001b[32m1\u001b[39m, \u001b[32m2\u001b[39m, \u001b[32m3\u001b[39m, \u001b[32m4\u001b[39m, \u001b[32m5\u001b[39m)\n",
       "\u001b[36mres5_2\u001b[39m: \u001b[32mArray\u001b[39m[\u001b[32mInt\u001b[39m] = \u001b[33mArray\u001b[39m(\u001b[32m2\u001b[39m, \u001b[32m1\u001b[39m, \u001b[32m4\u001b[39m, \u001b[32m3\u001b[39m, \u001b[32m5\u001b[39m)"
      ]
     },
     "execution_count": 6,
     "metadata": {},
     "output_type": "execute_result"
    }
   ],
   "source": [
    "def swapped(a: Array[Int]): Array[Int] = (\n",
    "    for (i <- 0 until a.length) \n",
    "        yield a(math.min(i + 1 - 2 * (i % 2), a.length - 1))\n",
    "    ) toArray\n",
    "\n",
    "\n",
    "val a = Array(1, 2, 3, 4, 5)\n",
    "swapped(a)"
   ]
  },
  {
   "cell_type": "markdown",
   "metadata": {},
   "source": [
    "### 4 Split by Sign"
   ]
  },
  {
   "cell_type": "code",
   "execution_count": 7,
   "metadata": {},
   "outputs": [
    {
     "data": {
      "text/plain": [
       "defined \u001b[32mfunction\u001b[39m \u001b[36msignsplit\u001b[39m\n",
       "\u001b[36mres6_1\u001b[39m: \u001b[32mArray\u001b[39m[\u001b[32mInt\u001b[39m] = \u001b[33mArray\u001b[39m(\u001b[32m1\u001b[39m, \u001b[32m4\u001b[39m, \u001b[32m2\u001b[39m, \u001b[32m6\u001b[39m, \u001b[32m-5\u001b[39m, \u001b[32m-9\u001b[39m, \u001b[32m-7\u001b[39m, \u001b[32m-8\u001b[39m)"
      ]
     },
     "execution_count": 7,
     "metadata": {},
     "output_type": "execute_result"
    }
   ],
   "source": [
    "def signsplit(a: Array[Int]): Array[Int] = a.filter{_>=0} ++ a.filter{_<0}\n",
    "\n",
    "signsplit(Array(1,4, -5, 2, -9, 6, -7, -8))"
   ]
  },
  {
   "cell_type": "markdown",
   "metadata": {},
   "source": [
    "### 5 Average"
   ]
  },
  {
   "cell_type": "code",
   "execution_count": 8,
   "metadata": {},
   "outputs": [
    {
     "data": {
      "text/plain": [
       "defined \u001b[32mfunction\u001b[39m \u001b[36maverage\u001b[39m\n",
       "\u001b[36mres7_1\u001b[39m: \u001b[32mDouble\u001b[39m = \u001b[32m0.6000000000000001\u001b[39m"
      ]
     },
     "execution_count": 8,
     "metadata": {},
     "output_type": "execute_result"
    }
   ],
   "source": [
    "def average(a: Array[Double]): Double = a.reduce(_ + _) / a.length\n",
    "\n",
    "average(Array(0.4, 0.8, 0.2, 1.0))"
   ]
  },
  {
   "cell_type": "markdown",
   "metadata": {},
   "source": [
    "### 6 Reverse"
   ]
  },
  {
   "cell_type": "code",
   "execution_count": 9,
   "metadata": {},
   "outputs": [
    {
     "data": {
      "text/plain": [
       "defined \u001b[32mfunction\u001b[39m \u001b[36mreverse\u001b[39m\n",
       "\u001b[36mres8_1\u001b[39m: \u001b[32mArray\u001b[39m[\u001b[32mInt\u001b[39m] = \u001b[33mArray\u001b[39m(\u001b[32m9\u001b[39m, \u001b[32m7\u001b[39m, \u001b[32m5\u001b[39m, \u001b[32m3\u001b[39m, \u001b[32m1\u001b[39m)"
      ]
     },
     "execution_count": 9,
     "metadata": {},
     "output_type": "execute_result"
    }
   ],
   "source": [
    "// def reverse(a: Array[Int]): Array[Int] = a.reverse\n",
    "def reverse(a: Array[Int]): Array[Int] = (for (i <- a.length - 1 to 0 by -1) yield a(i)) toArray\n",
    "\n",
    "reverse(Array(1,3,5,7,9))"
   ]
  },
  {
   "cell_type": "code",
   "execution_count": 10,
   "metadata": {},
   "outputs": [
    {
     "data": {
      "text/plain": [
       "defined \u001b[32mfunction\u001b[39m \u001b[36mreverse\u001b[39m\n",
       "\u001b[36mres9_1\u001b[39m: \u001b[32mArrayBuffer\u001b[39m[\u001b[32mInt\u001b[39m] = \u001b[33mArrayBuffer\u001b[39m(\u001b[32m9\u001b[39m, \u001b[32m7\u001b[39m, \u001b[32m5\u001b[39m, \u001b[32m3\u001b[39m, \u001b[32m1\u001b[39m)"
      ]
     },
     "execution_count": 10,
     "metadata": {},
     "output_type": "execute_result"
    }
   ],
   "source": [
    "def reverse(a: ArrayBuffer[Int]): ArrayBuffer[Int] = (for (i <- a.length - 1 to 0 by -1) yield a(i)).to[ArrayBuffer]\n",
    "\n",
    "reverse(ArrayBuffer(1,3,5,7,9))"
   ]
  },
  {
   "cell_type": "markdown",
   "metadata": {},
   "source": [
    "### 7 Deduplicate"
   ]
  },
  {
   "cell_type": "code",
   "execution_count": 11,
   "metadata": {},
   "outputs": [
    {
     "data": {
      "text/plain": [
       "\u001b[36ma\u001b[39m: \u001b[32mArray\u001b[39m[\u001b[32mInt\u001b[39m] = \u001b[33mArray\u001b[39m(\u001b[32m2\u001b[39m, \u001b[32m4\u001b[39m, \u001b[32m1\u001b[39m, \u001b[32m6\u001b[39m, \u001b[32m7\u001b[39m, \u001b[32m3\u001b[39m, \u001b[32m5\u001b[39m, \u001b[32m2\u001b[39m, \u001b[32m2\u001b[39m, \u001b[32m1\u001b[39m, \u001b[32m4\u001b[39m, \u001b[32m7\u001b[39m, \u001b[32m11\u001b[39m)\n",
       "\u001b[36mres10_1\u001b[39m: \u001b[32mArray\u001b[39m[\u001b[32mInt\u001b[39m] = \u001b[33mArray\u001b[39m(\u001b[32m2\u001b[39m, \u001b[32m4\u001b[39m, \u001b[32m1\u001b[39m, \u001b[32m6\u001b[39m, \u001b[32m7\u001b[39m, \u001b[32m3\u001b[39m, \u001b[32m5\u001b[39m, \u001b[32m11\u001b[39m)"
      ]
     },
     "execution_count": 11,
     "metadata": {},
     "output_type": "execute_result"
    }
   ],
   "source": [
    "val a = Array(2, 4, 1, 6, 7, 3, 5, 2, 2, 1, 4, 7, 11)\n",
    "a.distinct"
   ]
  },
  {
   "cell_type": "markdown",
   "metadata": {},
   "source": [
    "### 8 Transforming Arrays"
   ]
  },
  {
   "cell_type": "code",
   "execution_count": 12,
   "metadata": {},
   "outputs": [
    {
     "data": {
      "text/plain": [
       "\u001b[36ma\u001b[39m: \u001b[32mArrayBuffer\u001b[39m[\u001b[32mInt\u001b[39m] = \u001b[33mArrayBuffer\u001b[39m(\u001b[32m1\u001b[39m, \u001b[32m4\u001b[39m, \u001b[32m-2\u001b[39m, \u001b[32m6\u001b[39m, \u001b[32m8\u001b[39m, \u001b[32m0\u001b[39m, \u001b[32m5\u001b[39m, \u001b[32m8\u001b[39m)\n",
       "\u001b[36mindices\u001b[39m: \u001b[32mcollection\u001b[39m.\u001b[32mimmutable\u001b[39m.\u001b[32mIndexedSeq\u001b[39m[\u001b[32mInt\u001b[39m] = \u001b[33mVector\u001b[39m(\u001b[32m9\u001b[39m, \u001b[32m8\u001b[39m, \u001b[32m6\u001b[39m)\n",
       "\u001b[36mres11_3\u001b[39m: \u001b[32mArrayBuffer\u001b[39m[\u001b[32mInt\u001b[39m] = \u001b[33mArrayBuffer\u001b[39m(\u001b[32m1\u001b[39m, \u001b[32m4\u001b[39m, \u001b[32m-2\u001b[39m, \u001b[32m6\u001b[39m, \u001b[32m8\u001b[39m, \u001b[32m0\u001b[39m, \u001b[32m5\u001b[39m, \u001b[32m8\u001b[39m)"
      ]
     },
     "execution_count": 12,
     "metadata": {},
     "output_type": "execute_result"
    }
   ],
   "source": [
    "val a = ArrayBuffer(1, 4, -2, 6, 8, 0, -3, 5, -1, -5, 8)\n",
    "\n",
    "val indices = (for(i <- 0 until a.length if a(i) < 0) yield i) drop 1 reverse\n",
    "for (i <- indices) a.remove(i)\n",
    "a"
   ]
  },
  {
   "cell_type": "markdown",
   "metadata": {},
   "source": [
    "### 9 Timezones"
   ]
  },
  {
   "cell_type": "code",
   "execution_count": 13,
   "metadata": {},
   "outputs": [
    {
     "data": {
      "text/plain": [
       "\u001b[36mres12\u001b[39m: \u001b[32mArray\u001b[39m[\u001b[32mString\u001b[39m] = \u001b[33mArray\u001b[39m(\n",
       "  \u001b[32m\"Adak\"\u001b[39m,\n",
       "  \u001b[32m\"Anchorage\"\u001b[39m,\n",
       "  \u001b[32m\"Anguilla\"\u001b[39m,\n",
       "  \u001b[32m\"Antigua\"\u001b[39m,\n",
       "  \u001b[32m\"Araguaina\"\u001b[39m,\n",
       "  \u001b[32m\"Argentina/Buenos_Aires\"\u001b[39m,\n",
       "  \u001b[32m\"Argentina/Catamarca\"\u001b[39m,\n",
       "  \u001b[32m\"Argentina/ComodRivadavia\"\u001b[39m,\n",
       "  \u001b[32m\"Argentina/Cordoba\"\u001b[39m,\n",
       "  \u001b[32m\"Argentina/Jujuy\"\u001b[39m,\n",
       "  \u001b[32m\"Argentina/La_Rioja\"\u001b[39m,\n",
       "  \u001b[32m\"Argentina/Mendoza\"\u001b[39m,\n",
       "  \u001b[32m\"Argentina/Rio_Gallegos\"\u001b[39m,\n",
       "  \u001b[32m\"Argentina/Salta\"\u001b[39m,\n",
       "  \u001b[32m\"Argentina/San_Juan\"\u001b[39m,\n",
       "  \u001b[32m\"Argentina/San_Luis\"\u001b[39m,\n",
       "  \u001b[32m\"Argentina/Tucuman\"\u001b[39m,\n",
       "  \u001b[32m\"Argentina/Ushuaia\"\u001b[39m,\n",
       "  \u001b[32m\"Aruba\"\u001b[39m,\n",
       "  \u001b[32m\"Asuncion\"\u001b[39m,\n",
       "  \u001b[32m\"Atikokan\"\u001b[39m,\n",
       "  \u001b[32m\"Atka\"\u001b[39m,\n",
       "  \u001b[32m\"Bahia\"\u001b[39m,\n",
       "  \u001b[32m\"Bahia_Banderas\"\u001b[39m,\n",
       "  \u001b[32m\"Barbados\"\u001b[39m,\n",
       "  \u001b[32m\"Belem\"\u001b[39m,\n",
       "  \u001b[32m\"Belize\"\u001b[39m,\n",
       "  \u001b[32m\"Blanc-Sablon\"\u001b[39m,\n",
       "  \u001b[32m\"Boa_Vista\"\u001b[39m,\n",
       "  \u001b[32m\"Bogota\"\u001b[39m,\n",
       "  \u001b[32m\"Boise\"\u001b[39m,\n",
       "  \u001b[32m\"Buenos_Aires\"\u001b[39m,\n",
       "  \u001b[32m\"Cambridge_Bay\"\u001b[39m,\n",
       "  \u001b[32m\"Campo_Grande\"\u001b[39m,\n",
       "  \u001b[32m\"Cancun\"\u001b[39m,\n",
       "  \u001b[32m\"Caracas\"\u001b[39m,\n",
       "  \u001b[32m\"Catamarca\"\u001b[39m,\n",
       "  \u001b[32m\"Cayenne\"\u001b[39m,\n",
       "..."
      ]
     },
     "execution_count": 13,
     "metadata": {},
     "output_type": "execute_result"
    }
   ],
   "source": [
    "java.util.TimeZone.getAvailableIDs filter {_ startsWith(\"America/\")} map {_ drop 8} sorted"
   ]
  },
  {
   "cell_type": "markdown",
   "metadata": {},
   "source": [
    "### 10 System Flavor"
   ]
  },
  {
   "cell_type": "code",
   "execution_count": 14,
   "metadata": {},
   "outputs": [
    {
     "data": {
      "text/plain": [
       "\u001b[32mimport \u001b[39m\u001b[36mjava.awt.datatransfer._\n",
       "\u001b[39m\n",
       "\u001b[36mflavors\u001b[39m: \u001b[32mSystemFlavorMap\u001b[39m = java.awt.datatransfer.SystemFlavorMap@1fdf84b5"
      ]
     },
     "execution_count": 14,
     "metadata": {},
     "output_type": "execute_result"
    }
   ],
   "source": [
    "import java.awt.datatransfer._\n",
    "val flavors = SystemFlavorMap.getDefaultFlavorMap().asInstanceOf[SystemFlavorMap]"
   ]
  },
  {
   "cell_type": "code",
   "execution_count": 17,
   "metadata": {},
   "outputs": [
    {
     "data": {
      "text/plain": [
       "\u001b[36mres16\u001b[39m: \u001b[32mjava\u001b[39m.\u001b[32mutil\u001b[39m.\u001b[32mList\u001b[39m[\u001b[32mString\u001b[39m] = [JAVA_DATAFLAVOR:image/x-java-image; class=java.awt.Image]"
      ]
     },
     "execution_count": 17,
     "metadata": {},
     "output_type": "execute_result"
    }
   ],
   "source": [
    "flavors.getNativesForFlavor(DataFlavor.imageFlavor)"
   ]
  },
  {
   "cell_type": "code",
   "execution_count": 18,
   "metadata": {},
   "outputs": [
    {
     "data": {
      "text/plain": [
       "\u001b[32mimport \u001b[39m\u001b[36mscala.collection.JavaConversions.asScalaBuffer\n",
       "\u001b[39m\n",
       "\u001b[32mimport \u001b[39m\u001b[36mscala.collection.mutable.Buffer\n",
       "\n",
       "\u001b[39m\n",
       "\u001b[36ms\u001b[39m: \u001b[32mBuffer\u001b[39m[\u001b[32mString\u001b[39m] = \u001b[33mBuffer\u001b[39m(\n",
       "  \u001b[32m\"JAVA_DATAFLAVOR:text/html; document=fragment; class=java.lang.String; charset=Unicode\"\u001b[39m\n",
       ")"
      ]
     },
     "execution_count": 18,
     "metadata": {},
     "output_type": "execute_result"
    }
   ],
   "source": [
    "import scala.collection.JavaConversions.asScalaBuffer\n",
    "import scala.collection.mutable.Buffer\n",
    "\n",
    "val s: Buffer[String] = flavors.getNativesForFlavor(DataFlavor.fragmentHtmlFlavor)"
   ]
  },
  {
   "cell_type": "code",
   "execution_count": null,
   "metadata": {},
   "outputs": [],
   "source": []
  }
 ],
 "metadata": {
  "kernelspec": {
   "display_name": "Scala 2.12.8",
   "language": "scala",
   "name": "scala2.12.8"
  },
  "language_info": {
   "codemirror_mode": "text/x-scala",
   "file_extension": ".scala",
   "mimetype": "text/x-scala",
   "name": "scala",
   "nbconvert_exporter": "script",
   "version": "2.12.8"
  }
 },
 "nbformat": 4,
 "nbformat_minor": 2
}
