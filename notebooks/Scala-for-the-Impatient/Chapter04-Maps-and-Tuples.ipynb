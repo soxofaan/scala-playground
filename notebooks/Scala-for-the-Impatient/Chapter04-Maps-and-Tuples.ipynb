{
 "cells": [
  {
   "cell_type": "markdown",
   "metadata": {},
   "source": [
    "# Chapter 4 Maps and Tuples"
   ]
  },
  {
   "cell_type": "markdown",
   "metadata": {},
   "source": [
    "## Exercises"
   ]
  },
  {
   "cell_type": "markdown",
   "metadata": {},
   "source": [
    "### 1 Gizmos"
   ]
  },
  {
   "cell_type": "code",
   "execution_count": 1,
   "metadata": {},
   "outputs": [
    {
     "data": {
      "text/plain": [
       "\u001b[36mgizmos\u001b[39m: \u001b[32mMap\u001b[39m[\u001b[32mString\u001b[39m, \u001b[32mDouble\u001b[39m] = \u001b[33mMap\u001b[39m(\u001b[32m\"Foo\"\u001b[39m -> \u001b[32m12.34\u001b[39m, \u001b[32m\"Bar\"\u001b[39m -> \u001b[32m45.56\u001b[39m)\n",
       "\u001b[36mres0_1\u001b[39m: \u001b[32mMap\u001b[39m[\u001b[32mString\u001b[39m, \u001b[32mDouble\u001b[39m] = \u001b[33mMap\u001b[39m(\u001b[32m\"Foo\"\u001b[39m -> \u001b[32m11.106\u001b[39m, \u001b[32m\"Bar\"\u001b[39m -> \u001b[32m41.004000000000005\u001b[39m)"
      ]
     },
     "execution_count": 1,
     "metadata": {},
     "output_type": "execute_result"
    }
   ],
   "source": [
    "val gizmos = Map(\"Foo\" -> 12.34, \"Bar\" -> 45.56)\n",
    "for ((k,v) <- gizmos) yield (k, 0.9*v)"
   ]
  },
  {
   "cell_type": "markdown",
   "metadata": {},
   "source": [
    "### 2 Word Count"
   ]
  },
  {
   "cell_type": "code",
   "execution_count": 2,
   "metadata": {},
   "outputs": [
    {
     "data": {
      "text/plain": [
       "\u001b[36min\u001b[39m: \u001b[32mjava\u001b[39m.\u001b[32mutil\u001b[39m.\u001b[32mScanner\u001b[39m = java.util.Scanner[delimiters=\\p{javaWhitespace}+][position=116][match valid=false][need input=false][source closed=true][skipped=false][group separator=\\,][decimal separator=\\.][positive prefix=][negative prefix=\\Q-\\E][positive suffix=][negative suffix=][NaN string=\\Q�\\E][infinity string=\\Q∞\\E]\n",
       "\u001b[36mcounts\u001b[39m: \u001b[32mcollection\u001b[39m.\u001b[32mmutable\u001b[39m.\u001b[32mMap\u001b[39m[\u001b[32mString\u001b[39m, \u001b[32mInt\u001b[39m] = \u001b[33mMap\u001b[39m(\n",
       "  \u001b[32m\"Solutions\"\u001b[39m -> \u001b[32m1\u001b[39m,\n",
       "  \u001b[32m\"S.\"\u001b[39m -> \u001b[32m1\u001b[39m,\n",
       "  \u001b[32m\"#\"\u001b[39m -> \u001b[32m1\u001b[39m,\n",
       "  \u001b[32m\"Cay\"\u001b[39m -> \u001b[32m1\u001b[39m,\n",
       "  \u001b[32m\"Impatient\"\u001b[39m -> \u001b[32m1\u001b[39m,\n",
       "  \u001b[32m\"book\"\u001b[39m -> \u001b[32m1\u001b[39m,\n",
       "  \u001b[32m\"Horstmann.\"\u001b[39m -> \u001b[32m1\u001b[39m,\n",
       "  \u001b[32m\"from\"\u001b[39m -> \u001b[32m1\u001b[39m,\n",
       "  \u001b[32m\"for\"\u001b[39m -> \u001b[32m3\u001b[39m,\n",
       "  \u001b[32m\"by\"\u001b[39m -> \u001b[32m1\u001b[39m,\n",
       "  \u001b[32m\"Impatient\\\"\"\u001b[39m -> \u001b[32m1\u001b[39m,\n",
       "  \u001b[32m\"the\"\u001b[39m -> \u001b[32m4\u001b[39m,\n",
       "  \u001b[32m\"Scala\"\u001b[39m -> \u001b[32m1\u001b[39m,\n",
       "  \u001b[32m\"exercices\"\u001b[39m -> \u001b[32m1\u001b[39m,\n",
       "  \u001b[32m\"\\\"Scala\"\u001b[39m -> \u001b[32m1\u001b[39m\n",
       ")"
      ]
     },
     "execution_count": 2,
     "metadata": {},
     "output_type": "execute_result"
    }
   ],
   "source": [
    "val in = new java.util.Scanner(new java.io.File(\"README.md\"))\n",
    "val counts = scala.collection.mutable.Map[String, Int]()\n",
    "while (in.hasNext()) {\n",
    "    val word: String = in.next()\n",
    "    counts(word) = counts.getOrElse(word, 0) + 1\n",
    "}"
   ]
  },
  {
   "cell_type": "markdown",
   "metadata": {},
   "source": [
    "### 3 Word Count with Immutable Map"
   ]
  },
  {
   "cell_type": "code",
   "execution_count": 3,
   "metadata": {},
   "outputs": [
    {
     "data": {
      "text/html": [
       "<div class=\"jp-RenderedText\">\n",
       "<pre><code><span style=\"color: rgb(0, 187, 187)\"><span class=\"ansi-cyan-fg\">in</span></span>: <span style=\"color: rgb(0, 187, 0)\"><span class=\"ansi-green-fg\">java</span></span>.<span style=\"color: rgb(0, 187, 0)\"><span class=\"ansi-green-fg\">util</span></span>.<span style=\"color: rgb(0, 187, 0)\"><span class=\"ansi-green-fg\">Scanner</span></span> = java.util.Scanner[delimiters=\\p{javaWhitespace}+][position=116][match valid=false][need input=false][source closed=true][skipped=false][group separator=\\,][decimal separator=\\.][positive prefix=][negative prefix=\\Q-\\E][positive suffix=][negative suffix=][NaN string=\\Q�\\E][infinity string=\\Q∞\\E]\n",
       "<span style=\"color: rgb(0, 187, 187)\"><span class=\"ansi-cyan-fg\">counts</span></span>: <span style=\"color: rgb(0, 187, 0)\"><span class=\"ansi-green-fg\">Map</span></span>[<span style=\"color: rgb(0, 187, 0)\"><span class=\"ansi-green-fg\">String</span></span>, <span style=\"color: rgb(0, 187, 0)\"><span class=\"ansi-green-fg\">Int</span></span>] = <span style=\"color: yellow\"><span class=\"ansi-yellow-fg\">Map</span></span>(\n",
       "  <span style=\"color: rgb(0, 187, 0)\"><span class=\"ansi-green-fg\">&quot;for&quot;</span></span> -&gt; <span style=\"color: rgb(0, 187, 0)\"><span class=\"ansi-green-fg\">3</span></span>,\n",
       "  <span style=\"color: rgb(0, 187, 0)\"><span class=\"ansi-green-fg\">&quot;Solutions&quot;</span></span> -&gt; <span style=\"color: rgb(0, 187, 0)\"><span class=\"ansi-green-fg\">1</span></span>,\n",
       "  <span style=\"color: rgb(0, 187, 0)\"><span class=\"ansi-green-fg\">&quot;Horstmann.&quot;</span></span> -&gt; <span style=\"color: rgb(0, 187, 0)\"><span class=\"ansi-green-fg\">1</span></span>,\n",
       "  <span style=\"color: rgb(0, 187, 0)\"><span class=\"ansi-green-fg\">&quot;Scala&quot;</span></span> -&gt; <span style=\"color: rgb(0, 187, 0)\"><span class=\"ansi-green-fg\">1</span></span>,\n",
       "  <span style=\"color: rgb(0, 187, 0)\"><span class=\"ansi-green-fg\">&quot;\\&quot;Scala&quot;</span></span> -&gt; <span style=\"color: rgb(0, 187, 0)\"><span class=\"ansi-green-fg\">1</span></span>,\n",
       "  <span style=\"color: rgb(0, 187, 0)\"><span class=\"ansi-green-fg\">&quot;book&quot;</span></span> -&gt; <span style=\"color: rgb(0, 187, 0)\"><span class=\"ansi-green-fg\">1</span></span>,\n",
       "  <span style=\"color: rgb(0, 187, 0)\"><span class=\"ansi-green-fg\">&quot;Impatient\\&quot;&quot;</span></span> -&gt; <span style=\"color: rgb(0, 187, 0)\"><span class=\"ansi-green-fg\">1</span></span>,\n",
       "  <span style=\"color: rgb(0, 187, 0)\"><span class=\"ansi-green-fg\">&quot;Impatient&quot;</span></span> -&gt; <span style=\"color: rgb(0, 187, 0)\"><span class=\"ansi-green-fg\">1</span></span>,\n",
       "  <span style=\"color: rgb(0, 187, 0)\"><span class=\"ansi-green-fg\">&quot;Cay&quot;</span></span> -&gt; <span style=\"color: rgb(0, 187, 0)\"><span class=\"ansi-green-fg\">1</span></span>,\n",
       "  <span style=\"color: rgb(0, 187, 0)\"><span class=\"ansi-green-fg\">&quot;exercices&quot;</span></span> -&gt; <span style=\"color: rgb(0, 187, 0)\"><span class=\"ansi-green-fg\">1</span></span>,\n",
       "  <span style=\"color: rgb(0, 187, 0)\"><span class=\"ansi-green-fg\">&quot;by&quot;</span></span> -&gt; <span style=\"color: rgb(0, 187, 0)\"><span class=\"ansi-green-fg\">1</span></span>,\n",
       "  <span style=\"color: rgb(0, 187, 0)\"><span class=\"ansi-green-fg\">&quot;#&quot;</span></span> -&gt; <span style=\"color: rgb(0, 187, 0)\"><span class=\"ansi-green-fg\">1</span></span>,\n",
       "  <span style=\"color: rgb(0, 187, 0)\"><span class=\"ansi-green-fg\">&quot;from&quot;</span></span> -&gt; <span style=\"color: rgb(0, 187, 0)\"><span class=\"ansi-green-fg\">1</span></span>,\n",
       "  <span style=\"color: rgb(0, 187, 0)\"><span class=\"ansi-green-fg\">&quot;S.&quot;</span></span> -&gt; <span style=\"color: rgb(0, 187, 0)\"><span class=\"ansi-green-fg\">1</span></span>,\n",
       "  <span style=\"color: rgb(0, 187, 0)\"><span class=\"ansi-green-fg\">&quot;the&quot;</span></span> -&gt; <span style=\"color: rgb(0, 187, 0)\"><span class=\"ansi-green-fg\">4</span></span>\n",
       ")</code></pre>\n",
       "</div>"
      ],
      "text/plain": [
       "\u001b[36min\u001b[39m: \u001b[32mjava\u001b[39m.\u001b[32mutil\u001b[39m.\u001b[32mScanner\u001b[39m = java.util.Scanner[delimiters=\\p{javaWhitespace}+][position=116][match valid=false][need input=false][source closed=true][skipped=false][group separator=\\,][decimal separator=\\.][positive prefix=][negative prefix=\\Q-\\E][positive suffix=][negative suffix=][NaN string=\\Q�\\E][infinity string=\\Q∞\\E]\n",
       "\u001b[36mcounts\u001b[39m: \u001b[32mMap\u001b[39m[\u001b[32mString\u001b[39m, \u001b[32mInt\u001b[39m] = \u001b[33mMap\u001b[39m(\n",
       "  \u001b[32m\"for\"\u001b[39m -> \u001b[32m3\u001b[39m,\n",
       "  \u001b[32m\"Solutions\"\u001b[39m -> \u001b[32m1\u001b[39m,\n",
       "  \u001b[32m\"Horstmann.\"\u001b[39m -> \u001b[32m1\u001b[39m,\n",
       "  \u001b[32m\"Scala\"\u001b[39m -> \u001b[32m1\u001b[39m,\n",
       "  \u001b[32m\"\\\"Scala\"\u001b[39m -> \u001b[32m1\u001b[39m,\n",
       "  \u001b[32m\"book\"\u001b[39m -> \u001b[32m1\u001b[39m,\n",
       "  \u001b[32m\"Impatient\\\"\"\u001b[39m -> \u001b[32m1\u001b[39m,\n",
       "  \u001b[32m\"Impatient\"\u001b[39m -> \u001b[32m1\u001b[39m,\n",
       "  \u001b[32m\"Cay\"\u001b[39m -> \u001b[32m1\u001b[39m,\n",
       "  \u001b[32m\"exercices\"\u001b[39m -> \u001b[32m1\u001b[39m,\n",
       "  \u001b[32m\"by\"\u001b[39m -> \u001b[32m1\u001b[39m,\n",
       "  \u001b[32m\"#\"\u001b[39m -> \u001b[32m1\u001b[39m,\n",
       "  \u001b[32m\"from\"\u001b[39m -> \u001b[32m1\u001b[39m,\n",
       "  \u001b[32m\"S.\"\u001b[39m -> \u001b[32m1\u001b[39m,\n",
       "  \u001b[32m\"the\"\u001b[39m -> \u001b[32m4\u001b[39m\n",
       ")"
      ]
     },
     "metadata": {},
     "output_type": "display_data"
    }
   ],
   "source": [
    "val in = new java.util.Scanner(new java.io.File(\"README.md\"))\n",
    "var counts = scala.collection.immutable.Map[String, Int]()\n",
    "while (in.hasNext()) {\n",
    "    val word: String = in.next()\n",
    "    counts = counts + (word -> (counts.getOrElse(word, 0) + 1))\n",
    "}"
   ]
  },
  {
   "cell_type": "markdown",
   "metadata": {},
   "source": [
    "### 4 Word Count with Sorted Map"
   ]
  },
  {
   "cell_type": "code",
   "execution_count": 4,
   "metadata": {},
   "outputs": [
    {
     "data": {
      "text/html": [
       "<div class=\"jp-RenderedText\">\n",
       "<pre><code><span style=\"color: rgb(0, 187, 187)\"><span class=\"ansi-cyan-fg\">in</span></span>: <span style=\"color: rgb(0, 187, 0)\"><span class=\"ansi-green-fg\">java</span></span>.<span style=\"color: rgb(0, 187, 0)\"><span class=\"ansi-green-fg\">util</span></span>.<span style=\"color: rgb(0, 187, 0)\"><span class=\"ansi-green-fg\">Scanner</span></span> = java.util.Scanner[delimiters=\\p{javaWhitespace}+][position=116][match valid=false][need input=false][source closed=true][skipped=false][group separator=\\,][decimal separator=\\.][positive prefix=][negative prefix=\\Q-\\E][positive suffix=][negative suffix=][NaN string=\\Q�\\E][infinity string=\\Q∞\\E]\n",
       "<span style=\"color: rgb(0, 187, 187)\"><span class=\"ansi-cyan-fg\">counts</span></span>: <span style=\"color: rgb(0, 187, 0)\"><span class=\"ansi-green-fg\">collection</span></span>.<span style=\"color: rgb(0, 187, 0)\"><span class=\"ansi-green-fg\">mutable</span></span>.<span style=\"color: rgb(0, 187, 0)\"><span class=\"ansi-green-fg\">LinkedHashMap</span></span>[<span style=\"color: rgb(0, 187, 0)\"><span class=\"ansi-green-fg\">String</span></span>, <span style=\"color: rgb(0, 187, 0)\"><span class=\"ansi-green-fg\">Int</span></span>] = <span style=\"color: yellow\"><span class=\"ansi-yellow-fg\">Map</span></span>(\n",
       "  <span style=\"color: rgb(0, 187, 0)\"><span class=\"ansi-green-fg\">&quot;#&quot;</span></span> -&gt; <span style=\"color: rgb(0, 187, 0)\"><span class=\"ansi-green-fg\">1</span></span>,\n",
       "  <span style=\"color: rgb(0, 187, 0)\"><span class=\"ansi-green-fg\">&quot;Scala&quot;</span></span> -&gt; <span style=\"color: rgb(0, 187, 0)\"><span class=\"ansi-green-fg\">1</span></span>,\n",
       "  <span style=\"color: rgb(0, 187, 0)\"><span class=\"ansi-green-fg\">&quot;for&quot;</span></span> -&gt; <span style=\"color: rgb(0, 187, 0)\"><span class=\"ansi-green-fg\">3</span></span>,\n",
       "  <span style=\"color: rgb(0, 187, 0)\"><span class=\"ansi-green-fg\">&quot;the&quot;</span></span> -&gt; <span style=\"color: rgb(0, 187, 0)\"><span class=\"ansi-green-fg\">4</span></span>,\n",
       "  <span style=\"color: rgb(0, 187, 0)\"><span class=\"ansi-green-fg\">&quot;Impatient&quot;</span></span> -&gt; <span style=\"color: rgb(0, 187, 0)\"><span class=\"ansi-green-fg\">1</span></span>,\n",
       "  <span style=\"color: rgb(0, 187, 0)\"><span class=\"ansi-green-fg\">&quot;Solutions&quot;</span></span> -&gt; <span style=\"color: rgb(0, 187, 0)\"><span class=\"ansi-green-fg\">1</span></span>,\n",
       "  <span style=\"color: rgb(0, 187, 0)\"><span class=\"ansi-green-fg\">&quot;exercices&quot;</span></span> -&gt; <span style=\"color: rgb(0, 187, 0)\"><span class=\"ansi-green-fg\">1</span></span>,\n",
       "  <span style=\"color: rgb(0, 187, 0)\"><span class=\"ansi-green-fg\">&quot;from&quot;</span></span> -&gt; <span style=\"color: rgb(0, 187, 0)\"><span class=\"ansi-green-fg\">1</span></span>,\n",
       "  <span style=\"color: rgb(0, 187, 0)\"><span class=\"ansi-green-fg\">&quot;book&quot;</span></span> -&gt; <span style=\"color: rgb(0, 187, 0)\"><span class=\"ansi-green-fg\">1</span></span>,\n",
       "  <span style=\"color: rgb(0, 187, 0)\"><span class=\"ansi-green-fg\">&quot;\\&quot;Scala&quot;</span></span> -&gt; <span style=\"color: rgb(0, 187, 0)\"><span class=\"ansi-green-fg\">1</span></span>,\n",
       "  <span style=\"color: rgb(0, 187, 0)\"><span class=\"ansi-green-fg\">&quot;Impatient\\&quot;&quot;</span></span> -&gt; <span style=\"color: rgb(0, 187, 0)\"><span class=\"ansi-green-fg\">1</span></span>,\n",
       "  <span style=\"color: rgb(0, 187, 0)\"><span class=\"ansi-green-fg\">&quot;by&quot;</span></span> -&gt; <span style=\"color: rgb(0, 187, 0)\"><span class=\"ansi-green-fg\">1</span></span>,\n",
       "  <span style=\"color: rgb(0, 187, 0)\"><span class=\"ansi-green-fg\">&quot;Cay&quot;</span></span> -&gt; <span style=\"color: rgb(0, 187, 0)\"><span class=\"ansi-green-fg\">1</span></span>,\n",
       "  <span style=\"color: rgb(0, 187, 0)\"><span class=\"ansi-green-fg\">&quot;S.&quot;</span></span> -&gt; <span style=\"color: rgb(0, 187, 0)\"><span class=\"ansi-green-fg\">1</span></span>,\n",
       "  <span style=\"color: rgb(0, 187, 0)\"><span class=\"ansi-green-fg\">&quot;Horstmann.&quot;</span></span> -&gt; <span style=\"color: rgb(0, 187, 0)\"><span class=\"ansi-green-fg\">1</span></span>\n",
       ")</code></pre>\n",
       "</div>"
      ],
      "text/plain": [
       "\u001b[36min\u001b[39m: \u001b[32mjava\u001b[39m.\u001b[32mutil\u001b[39m.\u001b[32mScanner\u001b[39m = java.util.Scanner[delimiters=\\p{javaWhitespace}+][position=116][match valid=false][need input=false][source closed=true][skipped=false][group separator=\\,][decimal separator=\\.][positive prefix=][negative prefix=\\Q-\\E][positive suffix=][negative suffix=][NaN string=\\Q�\\E][infinity string=\\Q∞\\E]\n",
       "\u001b[36mcounts\u001b[39m: \u001b[32mcollection\u001b[39m.\u001b[32mmutable\u001b[39m.\u001b[32mLinkedHashMap\u001b[39m[\u001b[32mString\u001b[39m, \u001b[32mInt\u001b[39m] = \u001b[33mMap\u001b[39m(\n",
       "  \u001b[32m\"#\"\u001b[39m -> \u001b[32m1\u001b[39m,\n",
       "  \u001b[32m\"Scala\"\u001b[39m -> \u001b[32m1\u001b[39m,\n",
       "  \u001b[32m\"for\"\u001b[39m -> \u001b[32m3\u001b[39m,\n",
       "  \u001b[32m\"the\"\u001b[39m -> \u001b[32m4\u001b[39m,\n",
       "  \u001b[32m\"Impatient\"\u001b[39m -> \u001b[32m1\u001b[39m,\n",
       "  \u001b[32m\"Solutions\"\u001b[39m -> \u001b[32m1\u001b[39m,\n",
       "  \u001b[32m\"exercices\"\u001b[39m -> \u001b[32m1\u001b[39m,\n",
       "  \u001b[32m\"from\"\u001b[39m -> \u001b[32m1\u001b[39m,\n",
       "  \u001b[32m\"book\"\u001b[39m -> \u001b[32m1\u001b[39m,\n",
       "  \u001b[32m\"\\\"Scala\"\u001b[39m -> \u001b[32m1\u001b[39m,\n",
       "  \u001b[32m\"Impatient\\\"\"\u001b[39m -> \u001b[32m1\u001b[39m,\n",
       "  \u001b[32m\"by\"\u001b[39m -> \u001b[32m1\u001b[39m,\n",
       "  \u001b[32m\"Cay\"\u001b[39m -> \u001b[32m1\u001b[39m,\n",
       "  \u001b[32m\"S.\"\u001b[39m -> \u001b[32m1\u001b[39m,\n",
       "  \u001b[32m\"Horstmann.\"\u001b[39m -> \u001b[32m1\u001b[39m\n",
       ")"
      ]
     },
     "metadata": {},
     "output_type": "display_data"
    }
   ],
   "source": [
    "val in = new java.util.Scanner(new java.io.File(\"README.md\"))\n",
    "var counts = scala.collection.mutable.LinkedHashMap[String, Int]()\n",
    "while (in.hasNext()) {\n",
    "    val word: String = in.next()\n",
    "    counts(word) = counts.getOrElse(word, 0) + 1\n",
    "}"
   ]
  },
  {
   "cell_type": "markdown",
   "metadata": {},
   "source": [
    "### 5 Word Count with Tree Map"
   ]
  },
  {
   "cell_type": "code",
   "execution_count": 5,
   "metadata": {},
   "outputs": [
    {
     "data": {
      "text/html": [
       "<div class=\"jp-RenderedText\">\n",
       "<pre><code><span style=\"color: rgb(0, 187, 0)\"><span class=\"ansi-green-fg\">import </span></span><span style=\"color: rgb(0, 187, 187)\"><span class=\"ansi-cyan-fg\">scala.collection.JavaConversions.mapAsScalaMap\n",
       "</span></span>\n",
       "<span style=\"color: rgb(0, 187, 187)\"><span class=\"ansi-cyan-fg\">in</span></span>: <span style=\"color: rgb(0, 187, 0)\"><span class=\"ansi-green-fg\">java</span></span>.<span style=\"color: rgb(0, 187, 0)\"><span class=\"ansi-green-fg\">util</span></span>.<span style=\"color: rgb(0, 187, 0)\"><span class=\"ansi-green-fg\">Scanner</span></span> = java.util.Scanner[delimiters=\\p{javaWhitespace}+][position=116][match valid=false][need input=false][source closed=true][skipped=false][group separator=\\,][decimal separator=\\.][positive prefix=][negative prefix=\\Q-\\E][positive suffix=][negative suffix=][NaN string=\\Q�\\E][infinity string=\\Q∞\\E]\n",
       "<span style=\"color: rgb(0, 187, 187)\"><span class=\"ansi-cyan-fg\">counts</span></span>: <span style=\"color: rgb(0, 187, 0)\"><span class=\"ansi-green-fg\">java</span></span>.<span style=\"color: rgb(0, 187, 0)\"><span class=\"ansi-green-fg\">util</span></span>.<span style=\"color: rgb(0, 187, 0)\"><span class=\"ansi-green-fg\">TreeMap</span></span>[<span style=\"color: rgb(0, 187, 0)\"><span class=\"ansi-green-fg\">String</span></span>, <span style=\"color: rgb(0, 187, 0)\"><span class=\"ansi-green-fg\">Int</span></span>] = {&quot;Scala=1, #=1, Cay=1, Horstmann.=1, Impatient=1, Impatient&quot;=1, S.=1, Scala=1, Solutions=1, book=1, by=1, exercices=1, for=3, from=1, the=4}</code></pre>\n",
       "</div>"
      ],
      "text/plain": [
       "\u001b[32mimport \u001b[39m\u001b[36mscala.collection.JavaConversions.mapAsScalaMap\n",
       "\u001b[39m\n",
       "\u001b[36min\u001b[39m: \u001b[32mjava\u001b[39m.\u001b[32mutil\u001b[39m.\u001b[32mScanner\u001b[39m = java.util.Scanner[delimiters=\\p{javaWhitespace}+][position=116][match valid=false][need input=false][source closed=true][skipped=false][group separator=\\,][decimal separator=\\.][positive prefix=][negative prefix=\\Q-\\E][positive suffix=][negative suffix=][NaN string=\\Q�\\E][infinity string=\\Q∞\\E]\n",
       "\u001b[36mcounts\u001b[39m: \u001b[32mjava\u001b[39m.\u001b[32mutil\u001b[39m.\u001b[32mTreeMap\u001b[39m[\u001b[32mString\u001b[39m, \u001b[32mInt\u001b[39m] = {\"Scala=1, #=1, Cay=1, Horstmann.=1, Impatient=1, Impatient\"=1, S.=1, Scala=1, Solutions=1, book=1, by=1, exercices=1, for=3, from=1, the=4}"
      ]
     },
     "metadata": {},
     "output_type": "display_data"
    }
   ],
   "source": [
    "import scala.collection.JavaConversions.mapAsScalaMap\n",
    "val in = new java.util.Scanner(new java.io.File(\"README.md\"))\n",
    "var counts = new java.util.TreeMap[String, Int]\n",
    "while (in.hasNext()) {\n",
    "    val word: String = in.next()\n",
    "    counts(word) = counts.getOrElse(word, 0) + 1\n",
    "}"
   ]
  },
  {
   "cell_type": "markdown",
   "metadata": {},
   "source": [
    "### 6 Weekdays"
   ]
  },
  {
   "cell_type": "code",
   "execution_count": 6,
   "metadata": {},
   "outputs": [
    {
     "name": "stdout",
     "output_type": "stream",
     "text": [
      "(Monday,2)\n",
      "(Tuesday,3)\n",
      "(Wednesday,4)\n",
      "(Thursday,5)\n",
      "(Friday,6)\n",
      "(Saturday,7)\n",
      "(Sunday,1)\n"
     ]
    },
    {
     "data": {
      "text/plain": [
       "\u001b[32mimport \u001b[39m\u001b[36mjava.util.Calendar._\n",
       "\u001b[39m\n",
       "\u001b[36mweekdays\u001b[39m: \u001b[32mcollection\u001b[39m.\u001b[32mmutable\u001b[39m.\u001b[32mLinkedHashMap\u001b[39m[\u001b[32mString\u001b[39m, \u001b[32mInt\u001b[39m] = \u001b[33mMap\u001b[39m(\n",
       "  \u001b[32m\"Monday\"\u001b[39m -> \u001b[32m2\u001b[39m,\n",
       "  \u001b[32m\"Tuesday\"\u001b[39m -> \u001b[32m3\u001b[39m,\n",
       "  \u001b[32m\"Wednesday\"\u001b[39m -> \u001b[32m4\u001b[39m,\n",
       "  \u001b[32m\"Thursday\"\u001b[39m -> \u001b[32m5\u001b[39m,\n",
       "  \u001b[32m\"Friday\"\u001b[39m -> \u001b[32m6\u001b[39m,\n",
       "  \u001b[32m\"Saturday\"\u001b[39m -> \u001b[32m7\u001b[39m,\n",
       "  \u001b[32m\"Sunday\"\u001b[39m -> \u001b[32m1\u001b[39m\n",
       ")"
      ]
     },
     "execution_count": 6,
     "metadata": {},
     "output_type": "execute_result"
    }
   ],
   "source": [
    "import java.util.Calendar._\n",
    "val weekdays = scala.collection.mutable.LinkedHashMap(\n",
    "    \"Monday\" -> MONDAY,\n",
    "    \"Tuesday\" -> TUESDAY,\n",
    "    \"Wednesday\" -> WEDNESDAY,\n",
    "    \"Thursday\" -> THURSDAY,\n",
    "    \"Friday\" -> FRIDAY,\n",
    "    \"Saturday\" -> SATURDAY,\n",
    "    \"Sunday\" -> SUNDAY\n",
    ")\n",
    "for ((k,v) <- weekdays) println(k,v)"
   ]
  },
  {
   "cell_type": "markdown",
   "metadata": {},
   "source": [
    "### 7 Java Properties"
   ]
  },
  {
   "cell_type": "code",
   "execution_count": 7,
   "metadata": {
    "scrolled": false
   },
   "outputs": [
    {
     "name": "stdout",
     "output_type": "stream",
     "text": [
      "java.vm.version               | 25.222-b10\n",
      "java.vm.vendor                | Private Build\n",
      "java.vm.name                  | OpenJDK 64-Bit Server VM\n",
      "java.vm.specification.name    | Java Virtual Machine Specification\n",
      "java.vm.specification.vendor  | Oracle Corporation\n",
      "java.vm.specification.version | 1.8\n",
      "java.vm.info                  | mixed mode\n"
     ]
    },
    {
     "data": {
      "text/plain": [
       "\u001b[32mimport \u001b[39m\u001b[36mscala.collection.JavaConversions.propertiesAsScalaMap\n",
       "\u001b[39m\n",
       "\u001b[36mproperties\u001b[39m: \u001b[32mcollection\u001b[39m.\u001b[32mmutable\u001b[39m.\u001b[32mMap\u001b[39m[\u001b[32mString\u001b[39m, \u001b[32mString\u001b[39m] = \u001b[33mMap\u001b[39m(\n",
       "  \u001b[32m\"coursier.main.arg-6\"\u001b[39m -> \u001b[32m\"Scala 2.12.8\"\u001b[39m,\n",
       "  \u001b[32m\"coursier.main.arg-5\"\u001b[39m -> \u001b[32m\"--display-name\"\u001b[39m,\n",
       "  \u001b[32m\"coursier.main.arg-4\"\u001b[39m -> \u001b[32m\"scala2.12.8\"\u001b[39m,\n",
       "  \u001b[32m\"coursier.main.arg-3\"\u001b[39m -> \u001b[32m\"--id\"\u001b[39m,\n",
       "  \u001b[32m\"java.runtime.name\"\u001b[39m -> \u001b[32m\"OpenJDK Runtime Environment\"\u001b[39m,\n",
       "  \u001b[32m\"coursier.main.arg-2\"\u001b[39m -> \u001b[32m\"--metabrowse\"\u001b[39m,\n",
       "  \u001b[32m\"coursier.main.arg-1\"\u001b[39m -> \u001b[32m\"info\"\u001b[39m,\n",
       "  \u001b[32m\"coursier.main.arg-0\"\u001b[39m -> \u001b[32m\"--log\"\u001b[39m,\n",
       "  \u001b[32m\"sun.boot.library.path\"\u001b[39m -> \u001b[32m\"/usr/lib/jvm/java-8-openjdk-amd64/jre/lib/amd64\"\u001b[39m,\n",
       "  \u001b[32m\"java.vm.version\"\u001b[39m -> \u001b[32m\"25.222-b10\"\u001b[39m,\n",
       "  \u001b[32m\"java.vm.vendor\"\u001b[39m -> \u001b[32m\"Private Build\"\u001b[39m,\n",
       "  \u001b[32m\"java.vendor.url\"\u001b[39m -> \u001b[32m\"http://java.oracle.com/\"\u001b[39m,\n",
       "  \u001b[32m\"path.separator\"\u001b[39m -> \u001b[32m\":\"\u001b[39m,\n",
       "  \u001b[32m\"java.vm.name\"\u001b[39m -> \u001b[32m\"OpenJDK 64-Bit Server VM\"\u001b[39m,\n",
       "  \u001b[32m\"file.encoding.pkg\"\u001b[39m -> \u001b[32m\"sun.io\"\u001b[39m,\n",
       "  \u001b[32m\"user.country\"\u001b[39m -> \u001b[32m\"US\"\u001b[39m,\n",
       "  \u001b[32m\"sun.java.launcher\"\u001b[39m -> \u001b[32m\"SUN_STANDARD\"\u001b[39m,\n",
       "  \u001b[32m\"sun.os.patch.level\"\u001b[39m -> \u001b[32m\"unknown\"\u001b[39m,\n",
       "  \u001b[32m\"java.vm.specification.name\"\u001b[39m -> \u001b[32m\"Java Virtual Machine Specification\"\u001b[39m,\n",
       "  \u001b[32m\"user.dir\"\u001b[39m -> \u001b[32m\"/home/jovyan/work/Scala-for-the-Impatient\"\u001b[39m,\n",
       "  \u001b[32m\"java.runtime.version\"\u001b[39m -> \u001b[32m\"1.8.0_222-8u222-b10-1ubuntu1~18.04.1-b10\"\u001b[39m,\n",
       "  \u001b[32m\"java.awt.graphicsenv\"\u001b[39m -> \u001b[32m\"sun.awt.X11GraphicsEnvironment\"\u001b[39m,\n",
       "  \u001b[32m\"java.endorsed.dirs\"\u001b[39m -> \u001b[32m\"/usr/lib/jvm/java-8-openjdk-amd64/jre/lib/endorsed\"\u001b[39m,\n",
       "  \u001b[32m\"os.arch\"\u001b[39m -> \u001b[32m\"amd64\"\u001b[39m,\n",
       "  \u001b[32m\"java.io.tmpdir\"\u001b[39m -> \u001b[32m\"/tmp\"\u001b[39m,\n",
       "  \u001b[32m\"line.separator\"\u001b[39m -> \u001b[32m\"\"\"\n",
       "\"\"\"\u001b[39m,\n",
       "  \u001b[32m\"java.vm.specification.vendor\"\u001b[39m -> \u001b[32m\"Oracle Corporation\"\u001b[39m,\n",
       "  \u001b[32m\"os.name\"\u001b[39m -> \u001b[32m\"Linux\"\u001b[39m,\n",
       "  \u001b[32m\"sun.jnu.encoding\"\u001b[39m -> \u001b[32m\"UTF-8\"\u001b[39m,\n",
       "  \u001b[32m\"java.library.path\"\u001b[39m -> \u001b[32m\"/usr/java/packages/lib/amd64:/usr/lib/x86_64-linux-gnu/jni:/lib/x86_64-linux-gnu:/usr/lib/x86_64-linux-gnu:/usr/lib/jni:/lib:/usr/lib\"\u001b[39m,\n",
       "  \u001b[32m\"java.specification.name\"\u001b[39m -> \u001b[32m\"Java Platform API Specification\"\u001b[39m,\n",
       "  \u001b[32m\"java.class.version\"\u001b[39m -> \u001b[32m\"52.0\"\u001b[39m,\n",
       "  \u001b[32m\"sun.management.compiler\"\u001b[39m -> \u001b[32m\"HotSpot 64-Bit Tiered Compilers\"\u001b[39m,\n",
       "  \u001b[32m\"os.version\"\u001b[39m -> \u001b[32m\"4.9.184-linuxkit\"\u001b[39m,\n",
       "  \u001b[32m\"coursier.mainJar\"\u001b[39m -> \u001b[32m\"/home/jovyan/.local/share/jupyter/kernels/scala2.12.8/l\u001b[39m...\n",
       "\u001b[36mkeyMaxLength\u001b[39m: \u001b[32mInt\u001b[39m = \u001b[32m29\u001b[39m"
      ]
     },
     "execution_count": 7,
     "metadata": {},
     "output_type": "execute_result"
    }
   ],
   "source": [
    "import scala.collection.JavaConversions.propertiesAsScalaMap\n",
    "val properties: scala.collection.mutable.Map[String, String] = System.getProperties()\n",
    "\n",
    "val keyMaxLength = properties.keySet map {_.length} max\n",
    "for ((k, v) <- properties if k startsWith \"java.vm\") println(k.padTo(keyMaxLength, ' ') +  \" | \" + v)"
   ]
  },
  {
   "cell_type": "markdown",
   "metadata": {},
   "source": [
    "### 8 MinMax"
   ]
  },
  {
   "cell_type": "code",
   "execution_count": 8,
   "metadata": {},
   "outputs": [
    {
     "data": {
      "text/plain": [
       "defined \u001b[32mfunction\u001b[39m \u001b[36mminMax\u001b[39m\n",
       "\u001b[36mres7_1\u001b[39m: (\u001b[32mInt\u001b[39m, \u001b[32mInt\u001b[39m) = (\u001b[32m3\u001b[39m, \u001b[32m56\u001b[39m)"
      ]
     },
     "execution_count": 8,
     "metadata": {},
     "output_type": "execute_result"
    }
   ],
   "source": [
    "def minMax(a: Array[Int]): (Int, Int) = (a.min, a.max)\n",
    "\n",
    "minMax(Array(3,5,8,7,4,9,56,4))"
   ]
  },
  {
   "cell_type": "markdown",
   "metadata": {},
   "source": [
    "### 9 Lteqgt"
   ]
  },
  {
   "cell_type": "code",
   "execution_count": 9,
   "metadata": {},
   "outputs": [
    {
     "data": {
      "text/plain": [
       "defined \u001b[32mfunction\u001b[39m \u001b[36mlteqgt\u001b[39m\n",
       "\u001b[36mres8_1\u001b[39m: (\u001b[32mInt\u001b[39m, \u001b[32mInt\u001b[39m, \u001b[32mInt\u001b[39m) = (\u001b[32m8\u001b[39m, \u001b[32m3\u001b[39m, \u001b[32m7\u001b[39m)"
      ]
     },
     "execution_count": 9,
     "metadata": {},
     "output_type": "execute_result"
    }
   ],
   "source": [
    "def lteqgt(values: Array[Int], v: Int): (Int, Int, Int) = \n",
    "    (values count {_ < v}, values count {_ == v}, values count {_ > v})\n",
    "\n",
    "lteqgt(Array(4,3,5,6,4,3,6,76,5,4,3,4,5,76,7,8,6,1), 5)"
   ]
  },
  {
   "cell_type": "markdown",
   "metadata": {},
   "source": [
    "### 10 String Zip"
   ]
  },
  {
   "cell_type": "code",
   "execution_count": 10,
   "metadata": {},
   "outputs": [
    {
     "data": {
      "text/plain": [
       "\u001b[36mres9\u001b[39m: \u001b[32mcollection\u001b[39m.\u001b[32mimmutable\u001b[39m.\u001b[32mIndexedSeq\u001b[39m[(\u001b[32mChar\u001b[39m, \u001b[32mChar\u001b[39m)] = \u001b[33mVector\u001b[39m(\n",
       "  (\u001b[32m'H'\u001b[39m, \u001b[32m'W'\u001b[39m),\n",
       "  (\u001b[32m'e'\u001b[39m, \u001b[32m'o'\u001b[39m),\n",
       "  (\u001b[32m'l'\u001b[39m, \u001b[32m'r'\u001b[39m),\n",
       "  (\u001b[32m'l'\u001b[39m, \u001b[32m'l'\u001b[39m),\n",
       "  (\u001b[32m'o'\u001b[39m, \u001b[32m'd'\u001b[39m)\n",
       ")"
      ]
     },
     "execution_count": 10,
     "metadata": {},
     "output_type": "execute_result"
    }
   ],
   "source": [
    "\"Hello\".zip(\"World\")"
   ]
  },
  {
   "cell_type": "code",
   "execution_count": 11,
   "metadata": {},
   "outputs": [
    {
     "data": {
      "text/plain": [
       "\u001b[36mtoUpper\u001b[39m: \u001b[32mMap\u001b[39m[\u001b[32mChar\u001b[39m, \u001b[32mChar\u001b[39m] = \u001b[33mMap\u001b[39m(\n",
       "  \u001b[32m'e'\u001b[39m -> \u001b[32m'E'\u001b[39m,\n",
       "  \u001b[32m'f'\u001b[39m -> \u001b[32m'F'\u001b[39m,\n",
       "  \u001b[32m'a'\u001b[39m -> \u001b[32m'A'\u001b[39m,\n",
       "  \u001b[32m'b'\u001b[39m -> \u001b[32m'B'\u001b[39m,\n",
       "  \u001b[32m'c'\u001b[39m -> \u001b[32m'C'\u001b[39m,\n",
       "  \u001b[32m'd'\u001b[39m -> \u001b[32m'D'\u001b[39m\n",
       ")"
      ]
     },
     "execution_count": 11,
     "metadata": {},
     "output_type": "execute_result"
    }
   ],
   "source": [
    "val toUpper = \"abcdef\".zip(\"ABCDEF\") toMap"
   ]
  },
  {
   "cell_type": "code",
   "execution_count": null,
   "metadata": {},
   "outputs": [],
   "source": []
  }
 ],
 "metadata": {
  "kernelspec": {
   "display_name": "Scala 2.12.8",
   "language": "scala",
   "name": "scala2.12.8"
  },
  "language_info": {
   "codemirror_mode": "text/x-scala",
   "file_extension": ".scala",
   "mimetype": "text/x-scala",
   "name": "scala",
   "nbconvert_exporter": "script",
   "version": "2.12.8"
  }
 },
 "nbformat": 4,
 "nbformat_minor": 2
}
