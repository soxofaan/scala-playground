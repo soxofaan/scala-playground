{
 "cells": [
  {
   "cell_type": "markdown",
   "metadata": {},
   "source": [
    "# Chapter 6 Objects"
   ]
  },
  {
   "cell_type": "markdown",
   "metadata": {},
   "source": [
    "## Exercises"
   ]
  },
  {
   "cell_type": "markdown",
   "metadata": {},
   "source": [
    "### 1. Conversions"
   ]
  },
  {
   "cell_type": "code",
   "execution_count": 1,
   "metadata": {},
   "outputs": [
    {
     "data": {
      "text/plain": [
       "defined \u001b[32mobject\u001b[39m \u001b[36mConversions\u001b[39m\n",
       "\u001b[36mres0_1\u001b[39m: \u001b[32mDouble\u001b[39m = \u001b[32m12.7\u001b[39m\n",
       "\u001b[36mres0_2\u001b[39m: \u001b[32mDouble\u001b[39m = \u001b[32m11.355\u001b[39m\n",
       "\u001b[36mres0_3\u001b[39m: \u001b[32mDouble\u001b[39m = \u001b[32m9.6558\u001b[39m"
      ]
     },
     "execution_count": 1,
     "metadata": {},
     "output_type": "execute_result"
    }
   ],
   "source": [
    "object Conversions {\n",
    "    def inchesToCentimeters(x: Double): Double = x * 2.54\n",
    "    def gallonsToLitters(x: Double): Double = x * 3.785\n",
    "    def milesToKilometers(x: Double): Double = x * 1.6093\n",
    "}\n",
    "\n",
    "Conversions.inchesToCentimeters(5)\n",
    "Conversions.gallonsToLitters(3)\n",
    "Conversions.milesToKilometers(6)"
   ]
  },
  {
   "cell_type": "markdown",
   "metadata": {},
   "source": [
    "### 2. Conversions OO"
   ]
  },
  {
   "cell_type": "code",
   "execution_count": 2,
   "metadata": {},
   "outputs": [
    {
     "data": {
      "text/plain": [
       "defined \u001b[32mclass\u001b[39m \u001b[36mUnitConversion\u001b[39m\n",
       "defined \u001b[32mobject\u001b[39m \u001b[36mInchesToCentimeters\u001b[39m\n",
       "defined \u001b[32mobject\u001b[39m \u001b[36mGallonsToLitters\u001b[39m\n",
       "defined \u001b[32mobject\u001b[39m \u001b[36mMilesToKilometers\u001b[39m\n",
       "\u001b[36mres1_4\u001b[39m: \u001b[32mDouble\u001b[39m = \u001b[32m12.7\u001b[39m\n",
       "\u001b[36mres1_5\u001b[39m: \u001b[32mDouble\u001b[39m = \u001b[32m11.355\u001b[39m\n",
       "\u001b[36mres1_6\u001b[39m: \u001b[32mDouble\u001b[39m = \u001b[32m9.6558\u001b[39m"
      ]
     },
     "execution_count": 2,
     "metadata": {},
     "output_type": "execute_result"
    }
   ],
   "source": [
    "abstract class UnitConversion {\n",
    "    def apply(x: Double): Double\n",
    "}\n",
    "\n",
    "object InchesToCentimeters extends UnitConversion {\n",
    "    def apply(x: Double): Double = x * 2.54\n",
    "}\n",
    "\n",
    "object GallonsToLitters extends UnitConversion {\n",
    "    def apply(x: Double): Double = x * 3.785\n",
    "}\n",
    "\n",
    "object MilesToKilometers extends UnitConversion {\n",
    "    def apply(x: Double): Double = x * 1.6093\n",
    "}\n",
    "\n",
    "InchesToCentimeters(5)\n",
    "GallonsToLitters(3)\n",
    "MilesToKilometers(6)"
   ]
  },
  {
   "cell_type": "markdown",
   "metadata": {},
   "source": [
    "### 3. Origin Point"
   ]
  },
  {
   "cell_type": "code",
   "execution_count": 3,
   "metadata": {},
   "outputs": [
    {
     "data": {
      "text/plain": [
       "defined \u001b[32mobject\u001b[39m \u001b[36mOrigin\u001b[39m\n",
       "\u001b[36mres2_1\u001b[39m: \u001b[32mOrigin\u001b[39m.type = ammonite.$sess.cmd2$Helper$Origin$[x=0,y=0]"
      ]
     },
     "execution_count": 3,
     "metadata": {},
     "output_type": "execute_result"
    }
   ],
   "source": [
    "object Origin extends java.awt.Point {\n",
    "    x = 0\n",
    "    y = 0\n",
    "}\n",
    "\n",
    "Origin"
   ]
  },
  {
   "cell_type": "code",
   "execution_count": 4,
   "metadata": {},
   "outputs": [
    {
     "data": {
      "text/plain": [
       "\u001b[36mres3_1\u001b[39m: \u001b[32mOrigin\u001b[39m.type = ammonite.$sess.cmd2$Helper$Origin$[x=4,y=6]"
      ]
     },
     "execution_count": 4,
     "metadata": {},
     "output_type": "execute_result"
    }
   ],
   "source": [
    "Origin.setLocation(4,6)\n",
    "Origin"
   ]
  },
  {
   "cell_type": "markdown",
   "metadata": {},
   "source": [
    "Hmm, not good"
   ]
  },
  {
   "cell_type": "markdown",
   "metadata": {},
   "source": [
    "### 4. Point with companion"
   ]
  },
  {
   "cell_type": "code",
   "execution_count": 5,
   "metadata": {},
   "outputs": [
    {
     "data": {
      "text/plain": [
       "defined \u001b[32mclass\u001b[39m \u001b[36mPoint\u001b[39m\n",
       "defined \u001b[32mobject\u001b[39m \u001b[36mPoint\u001b[39m\n",
       "\u001b[36mres4_2\u001b[39m: \u001b[32mPoint\u001b[39m = [3.0,4.0]"
      ]
     },
     "execution_count": 5,
     "metadata": {},
     "output_type": "execute_result"
    }
   ],
   "source": [
    "class Point(val x: Double, val y: Double) {\n",
    "    override def toString = s\"[$x,$y]\"\n",
    "}\n",
    "\n",
    "object Point {\n",
    "    def apply(x: Double, y: Double) = new Point(x, y)\n",
    "}\n",
    "\n",
    "Point(3, 4)"
   ]
  },
  {
   "cell_type": "markdown",
   "metadata": {},
   "source": [
    "### 5. Reverse arguments"
   ]
  },
  {
   "cell_type": "code",
   "execution_count": 6,
   "metadata": {},
   "outputs": [
    {
     "data": {
      "text/plain": [
       "defined \u001b[32mobject\u001b[39m \u001b[36mReverseArgs\u001b[39m"
      ]
     },
     "execution_count": 6,
     "metadata": {},
     "output_type": "execute_result"
    }
   ],
   "source": [
    "object ReverseArgs extends App {\n",
    "    Console.println(args.reverse.mkString(\" \"))\n",
    "}"
   ]
  },
  {
   "cell_type": "code",
   "execution_count": 7,
   "metadata": {},
   "outputs": [
    {
     "name": "stdout",
     "output_type": "stream",
     "text": [
      "World Hello\n"
     ]
    }
   ],
   "source": [
    "ReverseArgs.main(Array(\"Hello\", \"World\"))"
   ]
  },
  {
   "cell_type": "markdown",
   "metadata": {},
   "source": [
    "### 6. Cards"
   ]
  },
  {
   "cell_type": "code",
   "execution_count": 8,
   "metadata": {},
   "outputs": [
    {
     "name": "stdout",
     "output_type": "stream",
     "text": [
      "(♥,♣,♦,♠)"
     ]
    },
    {
     "data": {
      "text/plain": [
       "defined \u001b[32mobject\u001b[39m \u001b[36mCardSuit\u001b[39m"
      ]
     },
     "execution_count": 8,
     "metadata": {},
     "output_type": "execute_result"
    }
   ],
   "source": [
    "object CardSuit extends Enumeration {\n",
    "    type CardSuit = Value\n",
    "    val Hearts = Value(\"♥\")\n",
    "    val Diamonds = Value(\"♦\")\n",
    "    val Spades= Value(\"♠\")\n",
    "    val Clubs = Value(\"♣\")\n",
    "}\n",
    "\n",
    "print(CardSuit.Hearts, CardSuit.Clubs, CardSuit.Diamonds, CardSuit.Spades)"
   ]
  },
  {
   "cell_type": "markdown",
   "metadata": {},
   "source": [
    "### 7. Red card"
   ]
  },
  {
   "cell_type": "code",
   "execution_count": 9,
   "metadata": {},
   "outputs": [
    {
     "data": {
      "text/plain": [
       "\u001b[32mimport \u001b[39m\u001b[36mCardSuit._\n",
       "\u001b[39m\n",
       "defined \u001b[32mfunction\u001b[39m \u001b[36misRed\u001b[39m\n",
       "\u001b[36mres8_2\u001b[39m: \u001b[32mBoolean\u001b[39m = true\n",
       "\u001b[36mres8_3\u001b[39m: \u001b[32mBoolean\u001b[39m = false"
      ]
     },
     "execution_count": 9,
     "metadata": {},
     "output_type": "execute_result"
    }
   ],
   "source": [
    "import CardSuit._\n",
    "def isRed(card: CardSuit): Boolean = card == Hearts || card == Diamonds\n",
    "\n",
    "isRed(Hearts)\n",
    "isRed(Spades)"
   ]
  },
  {
   "cell_type": "markdown",
   "metadata": {},
   "source": [
    "### 8. Color Cube"
   ]
  },
  {
   "cell_type": "code",
   "execution_count": 10,
   "metadata": {},
   "outputs": [
    {
     "data": {
      "text/plain": [
       "defined \u001b[32mobject\u001b[39m \u001b[36mColorCube\u001b[39m\n",
       "\u001b[36mres9_1\u001b[39m: \u001b[32mValueSet\u001b[39m = \u001b[33mColorCube.ValueSet\u001b[39m(\n",
       "  black,\n",
       "  blue,\n",
       "  green,\n",
       "  cyan,\n",
       "  red,\n",
       "  purple,\n",
       "  yellow,\n",
       "  white\n",
       ")"
      ]
     },
     "execution_count": 10,
     "metadata": {},
     "output_type": "execute_result"
    }
   ],
   "source": [
    "object ColorCube extends Enumeration {\n",
    "    val black = Value(0x000000)\n",
    "    val blue = Value(0x0000ff)\n",
    "    val green = Value(0x00ff00)\n",
    "    val cyan = Value(0x00ffff)\n",
    "    val red = Value(0xff0000)\n",
    "    val purple = Value(0xff00ff)\n",
    "    val yellow = Value(0xffff00)\n",
    "    val white = Value(0xfffffff)\n",
    "}\n",
    "\n",
    "ColorCube.values"
   ]
  },
  {
   "cell_type": "code",
   "execution_count": null,
   "metadata": {},
   "outputs": [],
   "source": []
  }
 ],
 "metadata": {
  "kernelspec": {
   "display_name": "Scala 2.12.8",
   "language": "scala",
   "name": "scala2.12.8"
  },
  "language_info": {
   "codemirror_mode": "text/x-scala",
   "file_extension": ".scala",
   "mimetype": "text/x-scala",
   "name": "scala",
   "nbconvert_exporter": "script",
   "version": "2.12.8"
  }
 },
 "nbformat": 4,
 "nbformat_minor": 2
}
