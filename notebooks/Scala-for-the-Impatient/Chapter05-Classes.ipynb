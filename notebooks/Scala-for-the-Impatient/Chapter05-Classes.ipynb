{
 "cells": [
  {
   "cell_type": "markdown",
   "metadata": {},
   "source": [
    "# Chapter 5 Classes"
   ]
  },
  {
   "cell_type": "markdown",
   "metadata": {},
   "source": [
    "## Exercises"
   ]
  },
  {
   "cell_type": "markdown",
   "metadata": {},
   "source": [
    "### 1. Counter Overflow"
   ]
  },
  {
   "cell_type": "code",
   "execution_count": 1,
   "metadata": {},
   "outputs": [
    {
     "data": {
      "text/plain": [
       "defined \u001b[32mclass\u001b[39m \u001b[36mCounter\u001b[39m"
      ]
     },
     "execution_count": 1,
     "metadata": {},
     "output_type": "execute_result"
    }
   ],
   "source": [
    "class Counter {\n",
    "    private var value = 0\n",
    "    def increment() { if (value < Int.MaxValue) value += 1 }\n",
    "    def current = value\n",
    "}"
   ]
  },
  {
   "cell_type": "markdown",
   "metadata": {},
   "source": [
    "### 2. Bank Account"
   ]
  },
  {
   "cell_type": "code",
   "execution_count": 2,
   "metadata": {},
   "outputs": [
    {
     "data": {
      "text/plain": [
       "defined \u001b[32mclass\u001b[39m \u001b[36mBankAccount\u001b[39m"
      ]
     },
     "execution_count": 2,
     "metadata": {},
     "output_type": "execute_result"
    }
   ],
   "source": [
    "class BankAccount {\n",
    "    private var value: Int = 0\n",
    "    def balance: Int = value\n",
    "    def deposit(amount: Int) { value += amount }\n",
    "    def withdraw(amount: Int) { value -= amount }\n",
    "}"
   ]
  },
  {
   "cell_type": "code",
   "execution_count": 3,
   "metadata": {},
   "outputs": [
    {
     "data": {
      "text/plain": [
       "\u001b[36ma\u001b[39m: \u001b[32mBankAccount\u001b[39m = ammonite.$sess.cmd1$Helper$BankAccount@7a0bb62b\n",
       "\u001b[36mres2_3\u001b[39m: \u001b[32mInt\u001b[39m = \u001b[32m20\u001b[39m"
      ]
     },
     "execution_count": 3,
     "metadata": {},
     "output_type": "execute_result"
    }
   ],
   "source": [
    "val a = new BankAccount\n",
    "a.deposit(100)\n",
    "a.withdraw(80)\n",
    "a.balance"
   ]
  },
  {
   "cell_type": "markdown",
   "metadata": {},
   "source": [
    "### 3. Time: hours and minutes"
   ]
  },
  {
   "cell_type": "code",
   "execution_count": 4,
   "metadata": {},
   "outputs": [
    {
     "data": {
      "text/plain": [
       "defined \u001b[32mclass\u001b[39m \u001b[36mTime\u001b[39m"
      ]
     },
     "execution_count": 4,
     "metadata": {},
     "output_type": "execute_result"
    }
   ],
   "source": [
    "class Time(\n",
    "    private val h: Int, \n",
    "    private val m: Int\n",
    ") {\n",
    "    \n",
    "    def hours = h\n",
    "    def minutes = m\n",
    "    \n",
    "    def before(other: Time): Boolean = h < other.h || h == other.h && m < other.m\n",
    "}"
   ]
  },
  {
   "cell_type": "code",
   "execution_count": 5,
   "metadata": {},
   "outputs": [
    {
     "data": {
      "text/plain": [
       "\u001b[36mt1\u001b[39m: \u001b[32mTime\u001b[39m = ammonite.$sess.cmd3$Helper$Time@6d75be56\n",
       "\u001b[36mres4_1\u001b[39m: \u001b[32mBoolean\u001b[39m = false\n",
       "\u001b[36mres4_2\u001b[39m: \u001b[32mBoolean\u001b[39m = false\n",
       "\u001b[36mres4_3\u001b[39m: \u001b[32mBoolean\u001b[39m = true\n",
       "\u001b[36mres4_4\u001b[39m: \u001b[32mBoolean\u001b[39m = true"
      ]
     },
     "execution_count": 5,
     "metadata": {},
     "output_type": "execute_result"
    }
   ],
   "source": [
    "val t1 = new Time(12, 34)\n",
    "t1.before(new Time(11, 30))\n",
    "t1.before(new Time(12, 30))\n",
    "t1.before(new Time(12, 35))\n",
    "t1.before(new Time(13, 10))"
   ]
  },
  {
   "cell_type": "markdown",
   "metadata": {},
   "source": [
    "### 4. Time: minutes since midnight"
   ]
  },
  {
   "cell_type": "code",
   "execution_count": 6,
   "metadata": {},
   "outputs": [
    {
     "data": {
      "text/plain": [
       "defined \u001b[32mclass\u001b[39m \u001b[36mTime\u001b[39m"
      ]
     },
     "execution_count": 6,
     "metadata": {},
     "output_type": "execute_result"
    }
   ],
   "source": [
    "class Time(h: Int, m: Int) {\n",
    "    private val mm = h * 60 + m\n",
    "    \n",
    "    def hours = mm / 60\n",
    "    def minutes = mm % 60\n",
    "    \n",
    "    def before(other: Time): Boolean = mm < other.mm \n",
    "}"
   ]
  },
  {
   "cell_type": "code",
   "execution_count": 7,
   "metadata": {},
   "outputs": [
    {
     "data": {
      "text/plain": [
       "\u001b[36mt1\u001b[39m: \u001b[32mTime\u001b[39m = ammonite.$sess.cmd5$Helper$Time@28d847c8\n",
       "\u001b[36mres6_1\u001b[39m: \u001b[32mBoolean\u001b[39m = false\n",
       "\u001b[36mres6_2\u001b[39m: \u001b[32mBoolean\u001b[39m = false\n",
       "\u001b[36mres6_3\u001b[39m: \u001b[32mBoolean\u001b[39m = true\n",
       "\u001b[36mres6_4\u001b[39m: \u001b[32mBoolean\u001b[39m = true"
      ]
     },
     "execution_count": 7,
     "metadata": {},
     "output_type": "execute_result"
    }
   ],
   "source": [
    "val t1 = new Time(12, 34)\n",
    "t1.before(new Time(11, 30))\n",
    "t1.before(new Time(12, 30))\n",
    "t1.before(new Time(12, 35))\n",
    "t1.before(new Time(13, 10))"
   ]
  },
  {
   "cell_type": "markdown",
   "metadata": {},
   "source": [
    "### 5. Student JavaBeans"
   ]
  },
  {
   "cell_type": "code",
   "execution_count": 8,
   "metadata": {},
   "outputs": [
    {
     "data": {
      "text/plain": [
       "\u001b[32mimport \u001b[39m\u001b[36mscala.beans.BeanProperty\n",
       "\n",
       "\u001b[39m\n",
       "defined \u001b[32mclass\u001b[39m \u001b[36mStudent\u001b[39m"
      ]
     },
     "execution_count": 8,
     "metadata": {},
     "output_type": "execute_result"
    }
   ],
   "source": [
    "import scala.beans.BeanProperty\n",
    "\n",
    "class Student(@BeanProperty var name: String, @BeanProperty var id: Long) {}"
   ]
  },
  {
   "cell_type": "code",
   "execution_count": 9,
   "metadata": {},
   "outputs": [
    {
     "data": {
      "text/plain": [
       "\u001b[36ms\u001b[39m: \u001b[32mStudent\u001b[39m = ammonite.$sess.cmd7$Helper$Student@480a84b9\n",
       "\u001b[36mres8_2\u001b[39m: (\u001b[32mString\u001b[39m, \u001b[32mString\u001b[39m, \u001b[32mString\u001b[39m) = (\u001b[32m\"John\"\u001b[39m, \u001b[32m\"John\"\u001b[39m, \u001b[32m\"John\"\u001b[39m)\n",
       "\u001b[36mres8_3\u001b[39m: (\u001b[32mLong\u001b[39m, \u001b[32mLong\u001b[39m, \u001b[32mLong\u001b[39m) = (\u001b[32m456L\u001b[39m, \u001b[32m456L\u001b[39m, \u001b[32m456L\u001b[39m)"
      ]
     },
     "execution_count": 9,
     "metadata": {},
     "output_type": "execute_result"
    }
   ],
   "source": [
    "val s = new Student(\"John\", 123)\n",
    "s.setId(456)\n",
    "(s.getName, s.getName(), s.name)\n",
    "(s.getId, s.getId(), s.id)"
   ]
  },
  {
   "cell_type": "markdown",
   "metadata": {},
   "source": [
    "### 6. Person Constructor"
   ]
  },
  {
   "cell_type": "code",
   "execution_count": 10,
   "metadata": {},
   "outputs": [
    {
     "data": {
      "text/plain": [
       "defined \u001b[32mclass\u001b[39m \u001b[36mPerson\u001b[39m"
      ]
     },
     "execution_count": 10,
     "metadata": {},
     "output_type": "execute_result"
    }
   ],
   "source": [
    "class Person(var age: Int = 0) {\n",
    "    if (age < 0) { age = 0 }\n",
    "}"
   ]
  },
  {
   "cell_type": "markdown",
   "metadata": {},
   "source": [
    "### 7. Person Names"
   ]
  },
  {
   "cell_type": "code",
   "execution_count": 11,
   "metadata": {},
   "outputs": [
    {
     "data": {
      "text/plain": [
       "defined \u001b[32mclass\u001b[39m \u001b[36mPerson\u001b[39m"
      ]
     },
     "execution_count": 11,
     "metadata": {},
     "output_type": "execute_result"
    }
   ],
   "source": [
    "class Person(private val names: String) {\n",
    "    def firstName = names.split(' ')(0)\n",
    "    def lastName = names.split(' ')(1)\n",
    "}"
   ]
  },
  {
   "cell_type": "code",
   "execution_count": 12,
   "metadata": {},
   "outputs": [
    {
     "data": {
      "text/plain": [
       "\u001b[36mp\u001b[39m: \u001b[32mPerson\u001b[39m = ammonite.$sess.cmd10$Helper$Person@17512b02\n",
       "\u001b[36mres11_1\u001b[39m: \u001b[32mString\u001b[39m = \u001b[32m\"Fred\"\u001b[39m\n",
       "\u001b[36mres11_2\u001b[39m: \u001b[32mString\u001b[39m = \u001b[32m\"Smith\"\u001b[39m"
      ]
     },
     "execution_count": 12,
     "metadata": {},
     "output_type": "execute_result"
    }
   ],
   "source": [
    "val p = new Person(\"Fred Smith\")\n",
    "p.firstName\n",
    "p.lastName"
   ]
  },
  {
   "cell_type": "markdown",
   "metadata": {},
   "source": [
    "### 8. Car"
   ]
  },
  {
   "cell_type": "code",
   "execution_count": 13,
   "metadata": {},
   "outputs": [
    {
     "data": {
      "text/plain": [
       "defined \u001b[32mclass\u001b[39m \u001b[36mCar\u001b[39m"
      ]
     },
     "execution_count": 13,
     "metadata": {},
     "output_type": "execute_result"
    }
   ],
   "source": [
    "class Car(val manufacturer: String, val model: String, val modelYear: Int = -1, var licensePlate: String = \"\") {\n",
    "}"
   ]
  },
  {
   "cell_type": "markdown",
   "metadata": {},
   "source": [
    "### 10. Employee"
   ]
  },
  {
   "cell_type": "code",
   "execution_count": 14,
   "metadata": {},
   "outputs": [
    {
     "data": {
      "text/plain": [
       "defined \u001b[32mclass\u001b[39m \u001b[36mEmployee\u001b[39m"
      ]
     },
     "execution_count": 14,
     "metadata": {},
     "output_type": "execute_result"
    }
   ],
   "source": [
    "class Employee(val name: String, var salary: Double) {\n",
    "    def this() { this(\"John Q. Public\", 0.0) }\n",
    "}"
   ]
  },
  {
   "cell_type": "code",
   "execution_count": 15,
   "metadata": {},
   "outputs": [
    {
     "data": {
      "text/plain": [
       "defined \u001b[32mclass\u001b[39m \u001b[36mEmployee\u001b[39m"
      ]
     },
     "execution_count": 15,
     "metadata": {},
     "output_type": "execute_result"
    }
   ],
   "source": [
    "class Employee {\n",
    "    private var name: String = \"John Q. Public\"\n",
    "    var salary: Double = 0.0\n",
    "    \n",
    "    def this(name: String, salary: Double) {\n",
    "        this()\n",
    "        this.name = name\n",
    "        this.salary = salary\n",
    "    }\n",
    "}"
   ]
  },
  {
   "cell_type": "code",
   "execution_count": null,
   "metadata": {},
   "outputs": [],
   "source": []
  }
 ],
 "metadata": {
  "kernelspec": {
   "display_name": "Scala 2.12.8",
   "language": "scala",
   "name": "scala2.12.8"
  },
  "language_info": {
   "codemirror_mode": "text/x-scala",
   "file_extension": ".scala",
   "mimetype": "text/x-scala",
   "name": "scala",
   "nbconvert_exporter": "script",
   "version": "2.12.8"
  }
 },
 "nbformat": 4,
 "nbformat_minor": 2
}
